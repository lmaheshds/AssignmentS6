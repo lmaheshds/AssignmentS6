{
  "nbformat": 4,
  "nbformat_minor": 0,
  "metadata": {
    "colab": {
      "name": "part2.ipynb",
      "provenance": [],
      "collapsed_sections": []
    },
    "kernelspec": {
      "name": "python3",
      "display_name": "Python 3"
    },
    "language_info": {
      "name": "python"
    }
  },
  "cells": [
    {
      "cell_type": "code",
      "metadata": {
        "id": "ovtRgJGWkH32"
      },
      "source": [
        "import math\n",
        "from functools import reduce\n",
        "import random\n",
        "from functools import partial\n",
        "import string\n",
        "import re\n",
        "import urllib\n",
        "import requests"
      ],
      "execution_count": 31,
      "outputs": []
    },
    {
      "cell_type": "code",
      "metadata": {
        "id": "gXhXd9c8kN_S"
      },
      "source": [
        "# From a pre-stored fibonacci list, a given number has to be checked if it's a fibonacci number\n",
        "\n",
        "fib_list = [0, 1, 1, 2, 3, 5, 8, 13, 21, 34, 55, 89, 144, 233, 377, 610, 987, 1597, 2584, 4181, 6765, 10946]\n",
        "fib_check = lambda x : True if x in fib_list else False\n",
        "\n",
        "\n"
      ],
      "execution_count": 191,
      "outputs": []
    },
    {
      "cell_type": "code",
      "metadata": {
        "colab": {
          "base_uri": "https://localhost:8080/"
        },
        "id": "s01jNnih3heP",
        "outputId": "7875a127-c3cc-4660-94f0-64bc5d65218a"
      },
      "source": [
        "fib_check(55)"
      ],
      "execution_count": 192,
      "outputs": [
        {
          "output_type": "execute_result",
          "data": {
            "text/plain": [
              "True"
            ]
          },
          "metadata": {
            "tags": []
          },
          "execution_count": 192
        }
      ]
    },
    {
      "cell_type": "code",
      "metadata": {
        "id": "mEGT68Q7k24o"
      },
      "source": [
        "# From 2 lists, even number from 1st list and odd number from 2nd list should be added...using list comprehension, lambda/filter can also be used\n",
        "def even_odd(l1, l2):\n",
        "    if len(l1) == 0:\n",
        "        raise ValueError('list1 cannot be empty')\n",
        "    if len(l2) == 0:\n",
        "        raise ValueError('list2 cannot be empty')\n",
        "    else:\n",
        "        return[x + y for x, y in zip(l1, l2) if x % 2 ==0 and y % 2 != 0]"
      ],
      "execution_count": 144,
      "outputs": []
    },
    {
      "cell_type": "code",
      "metadata": {
        "colab": {
          "base_uri": "https://localhost:8080/"
        },
        "id": "mE6VBoFg3tIe",
        "outputId": "007fa477-bb00-40ba-ffa6-5188a92b162b"
      },
      "source": [
        "even_odd([2,4,6,9,10,22,33], [12,4,7,16,15,25,26])"
      ],
      "execution_count": 145,
      "outputs": [
        {
          "output_type": "execute_result",
          "data": {
            "text/plain": [
              "[13, 25, 47]"
            ]
          },
          "metadata": {
            "tags": []
          },
          "execution_count": 145
        }
      ]
    },
    {
      "cell_type": "code",
      "metadata": {
        "id": "fu_L_6prkVGi"
      },
      "source": [
        "# Vowels should be stripped from a given string using list comprehension\n",
        "def strip_vowel_str(str):\n",
        "    vowels = ['a', 'e', 'i', 'o', 'u']\n",
        "    if len(str) <= 1:\n",
        "        raise ValueError(\"string should have more than one character\")\n",
        "\n",
        "    else:\n",
        "        return \"\".join([x for x in str if x not in vowels])"
      ],
      "execution_count": 148,
      "outputs": []
    },
    {
      "cell_type": "code",
      "metadata": {
        "colab": {
          "base_uri": "https://localhost:8080/",
          "height": 35
        },
        "id": "NVsM5h2M4IHJ",
        "outputId": "0a905411-aa3d-4011-d7a1-26e5b79b39fe"
      },
      "source": [
        "strip_vowel_str('python')"
      ],
      "execution_count": 149,
      "outputs": [
        {
          "output_type": "execute_result",
          "data": {
            "application/vnd.google.colaboratory.intrinsic+json": {
              "type": "string"
            },
            "text/plain": [
              "'pythn'"
            ]
          },
          "metadata": {
            "tags": []
          },
          "execution_count": 149
        }
      ]
    },
    {
      "cell_type": "code",
      "metadata": {
        "id": "WpTPJaBd2h2S"
      },
      "source": [
        "# RelU function should be defined using list comprehension\n",
        "\n",
        "def relu_activation(l):\n",
        "    if len(l) == 0:\n",
        "        raise ValueError(\"atleast one value must be entered in the list\")\n",
        "    for i in l:\n",
        "        if type(i) not in (int, float):\n",
        "            raise TypeError(\"only ints or floats are allowed\")\n",
        "        else:\n",
        "            pass\n",
        "    else:\n",
        "        return[0 if x < 0 else x for x in l]"
      ],
      "execution_count": 162,
      "outputs": []
    },
    {
      "cell_type": "code",
      "metadata": {
        "colab": {
          "base_uri": "https://localhost:8080/"
        },
        "id": "FkM1mEz84M1W",
        "outputId": "924fbda7-801e-4b1d-8855-f2fb7e160aa6"
      },
      "source": [
        "relu_activation([-3, -2, -1, 0, 1, 2, 3.5])"
      ],
      "execution_count": 163,
      "outputs": [
        {
          "output_type": "execute_result",
          "data": {
            "text/plain": [
              "[0, 0, 0, 0, 1, 2, 3.5]"
            ]
          },
          "metadata": {
            "tags": []
          },
          "execution_count": 163
        }
      ]
    },
    {
      "cell_type": "code",
      "metadata": {
        "id": "VfgUPy_a2mlB"
      },
      "source": [
        "# sigmoid function should be defined using list comprehension\n",
        "def sigmoid_activation(l):\n",
        "    if len(l) == 0:\n",
        "        raise ValueError(\"atleast one value must be entered in the list\")\n",
        "    for i in l:\n",
        "        if type(i) not in (int, float):\n",
        "            raise TypeError(\"only ints or floats are allowed\")\n",
        "        else:\n",
        "            pass\n",
        "    else:\n",
        "        return[round(1/(1+math.exp(-x)),2) for x in l]"
      ],
      "execution_count": 164,
      "outputs": []
    },
    {
      "cell_type": "code",
      "metadata": {
        "colab": {
          "base_uri": "https://localhost:8080/"
        },
        "id": "3dNQrzOo6HLb",
        "outputId": "3fe29a7a-e3a6-449f-ae34-116b80a7a8fd"
      },
      "source": [
        "sigmoid_activation([-3, -2, -1, 0, 1, 2, 3.5])"
      ],
      "execution_count": 165,
      "outputs": [
        {
          "output_type": "execute_result",
          "data": {
            "text/plain": [
              "[0.05, 0.12, 0.27, 0.5, 0.73, 0.88, 0.97]"
            ]
          },
          "metadata": {
            "tags": []
          },
          "execution_count": 165
        }
      ]
    },
    {
      "cell_type": "code",
      "metadata": {
        "id": "N61caoeS2qL5"
      },
      "source": [
        "# function to shift the characters by 5 places\n",
        "def shift_5_char(str):\n",
        "    if len(str) <= 1:\n",
        "        raise ValueError(\"string should have more than one character\")\n",
        "    else:\n",
        "        str = str.lower()\n",
        "        return \"\".join([chr(ord(x)+5) if (ord(x)+5) <=122 else chr(ord(x)+5-122+96) for x in str])"
      ],
      "execution_count": 158,
      "outputs": []
    },
    {
      "cell_type": "code",
      "metadata": {
        "colab": {
          "base_uri": "https://localhost:8080/",
          "height": 35
        },
        "id": "Wh15ibUC6NEp",
        "outputId": "1049d8af-bf07-4743-cdac-14e48c488daa"
      },
      "source": [
        "shift_5_char('abcde')"
      ],
      "execution_count": 193,
      "outputs": [
        {
          "output_type": "execute_result",
          "data": {
            "application/vnd.google.colaboratory.intrinsic+json": {
              "type": "string"
            },
            "text/plain": [
              "'fghij'"
            ]
          },
          "metadata": {
            "tags": []
          },
          "execution_count": 193
        }
      ]
    },
    {
      "cell_type": "code",
      "metadata": {
        "id": "ibIQTBx4WAjj"
      },
      "source": [
        "response = requests.get(\"https://raw.githubusercontent.com/RobertJGabriel/Google-profanity-words/master/list.txt\")\n",
        "data = response.text\n",
        "data\n",
        "\n",
        "def profane_filter(str):\n",
        "    if len(str) <= 1:\n",
        "        raise ValueError(\"string should have more than one character\")\n",
        "    else:\n",
        "        return True if str.lower() in data else False"
      ],
      "execution_count": 169,
      "outputs": []
    },
    {
      "cell_type": "code",
      "metadata": {
        "colab": {
          "base_uri": "https://localhost:8080/"
        },
        "id": "2gGWub5RWvvZ",
        "outputId": "fdf2bf95-c77a-4931-c06a-63a273d16af1"
      },
      "source": [
        "profane_filter('Fuck')"
      ],
      "execution_count": 170,
      "outputs": [
        {
          "output_type": "execute_result",
          "data": {
            "text/plain": [
              "True"
            ]
          },
          "metadata": {
            "tags": []
          },
          "execution_count": 170
        }
      ]
    },
    {
      "cell_type": "code",
      "metadata": {
        "id": "02aP2d6E2vyi"
      },
      "source": [
        "# Using reduce , lambda etc the even numbers in a list must be added.\n",
        "def add_even_num(l):\n",
        "    if len(l) == 0:\n",
        "        raise ValueError(\"atleast one value must be entered in the list\")\n",
        "    for i in l:\n",
        "        if type(i) != int:\n",
        "            raise TypeError(\"only ints are allowed\")\n",
        "        else:\n",
        "            pass\n",
        "    sum = reduce(lambda a, b: a + b, filter(lambda a: (a % 2 == 0), l))\n",
        "    return sum"
      ],
      "execution_count": 171,
      "outputs": []
    },
    {
      "cell_type": "code",
      "metadata": {
        "colab": {
          "base_uri": "https://localhost:8080/"
        },
        "id": "tKxon3HP6xxq",
        "outputId": "dde99320-8cc8-4170-ddf7-a175e54a955a"
      },
      "source": [
        "add_even_num([1, 2, 3, 4, 5, 6, 7, 8, 9, 10])"
      ],
      "execution_count": 172,
      "outputs": [
        {
          "output_type": "execute_result",
          "data": {
            "text/plain": [
              "30"
            ]
          },
          "metadata": {
            "tags": []
          },
          "execution_count": 172
        }
      ]
    },
    {
      "cell_type": "code",
      "metadata": {
        "id": "IZH5z6Rs2yJX"
      },
      "source": [
        "# Using reduce, lambda etc the biggest ascii character in a given string must be found\n",
        "def big_char_str(str):\n",
        "    if len(str) <= 1:\n",
        "        raise ValueError(\"string should have more than one character\")\n",
        "    else:\n",
        "        result = reduce(lambda a, b: a if ord(a) > ord(b) else b, str)\n",
        "        return result"
      ],
      "execution_count": 173,
      "outputs": []
    },
    {
      "cell_type": "code",
      "metadata": {
        "colab": {
          "base_uri": "https://localhost:8080/",
          "height": 35
        },
        "id": "EspJbtSk651y",
        "outputId": "d3ad8ab6-d3f6-40f1-d818-533c243046a9"
      },
      "source": [
        "big_char_str('Welcome')"
      ],
      "execution_count": 174,
      "outputs": [
        {
          "output_type": "execute_result",
          "data": {
            "application/vnd.google.colaboratory.intrinsic+json": {
              "type": "string"
            },
            "text/plain": [
              "'o'"
            ]
          },
          "metadata": {
            "tags": []
          },
          "execution_count": 174
        }
      ]
    },
    {
      "cell_type": "code",
      "metadata": {
        "id": "ACkZTiEy20wR"
      },
      "source": [
        "# Using reduce, lambda function every third number must be added in a list\n",
        "def add_third_num(l):\n",
        "    if len(l) == 0:\n",
        "        raise ValueError(\"atleast one value must be entered in the list\")\n",
        "    for i in l:\n",
        "        if type(i) != int:\n",
        "            raise TypeError(\"only ints are allowed\")\n",
        "        else:\n",
        "            pass\n",
        "    else:\n",
        "        add_third_number = reduce(lambda a, b: a + b, l[2::3])\n",
        "        return add_third_number"
      ],
      "execution_count": 175,
      "outputs": []
    },
    {
      "cell_type": "code",
      "metadata": {
        "colab": {
          "base_uri": "https://localhost:8080/"
        },
        "id": "varG1gQX7cr2",
        "outputId": "af2e616c-4006-49b6-9a2e-6d312002ea6c"
      },
      "source": [
        "add_third_num([1, 2, 3, 4, 5, 6, 7, 8, 9])"
      ],
      "execution_count": 176,
      "outputs": [
        {
          "output_type": "execute_result",
          "data": {
            "text/plain": [
              "18"
            ]
          },
          "metadata": {
            "tags": []
          },
          "execution_count": 176
        }
      ]
    },
    {
      "cell_type": "code",
      "metadata": {
        "id": "rmmEFTR8M6Jc"
      },
      "source": [
        "# Using randint, random.choice and list comprehensions, 15 random KADDAADDDD number plates must be generated, where KA is fixed, D stands for a digit, and A stands for Capital alphabets\n",
        "def num_plate (x= 'KA', *y):\n",
        "    Alphabet = ['A', 'B', 'C', 'D', 'E', 'F', 'G', 'H', 'I', 'J', 'K', 'L', 'M', 'N', 'O', 'P', 'Q', 'R', 'S', 'T', 'U', 'V', 'W', 'X', 'Y','Z']\n",
        "    return [x+ str(random.randint(10,99))+str(random.choice(Alphabet))+str(random.choice(Alphabet))+str(random.randint(1000,9999)) for i in range(15)]\n",
        "\n"
      ],
      "execution_count": 177,
      "outputs": []
    },
    {
      "cell_type": "code",
      "metadata": {
        "colab": {
          "base_uri": "https://localhost:8080/"
        },
        "id": "mrRpCaxxM-Gl",
        "outputId": "6172c1f2-4245-403b-8d65-7e8069243fb2"
      },
      "source": [
        "num_plate()"
      ],
      "execution_count": 94,
      "outputs": [
        {
          "output_type": "execute_result",
          "data": {
            "text/plain": [
              "['KA29QD1029',\n",
              " 'KA22IU3699',\n",
              " 'KA88VT3796',\n",
              " 'KA77VK7525',\n",
              " 'KA26NC7952',\n",
              " 'KA62IB6018',\n",
              " 'KA84IH9472',\n",
              " 'KA69UT6490',\n",
              " 'KA98PP3681',\n",
              " 'KA42QI1845',\n",
              " 'KA27ID7921',\n",
              " 'KA46JT4251',\n",
              " 'KA96BW1429',\n",
              " 'KA47HT8486',\n",
              " 'KA50BN1069']"
            ]
          },
          "metadata": {
            "tags": []
          },
          "execution_count": 94
        }
      ]
    },
    {
      "cell_type": "code",
      "metadata": {
        "colab": {
          "base_uri": "https://localhost:8080/"
        },
        "id": "mGvk4QpwNP60",
        "outputId": "c33bbe5e-d858-4106-ecd5-d53187446dbd"
      },
      "source": [
        "# Using the above, we write a partial function such that 1000/9999 are hardcoded, but KA can be provided\n",
        "from functools import partial\n",
        "new_plate = partial(num_plate)\n",
        "\n",
        "new_plate(\"DL\")"
      ],
      "execution_count": 178,
      "outputs": [
        {
          "output_type": "execute_result",
          "data": {
            "text/plain": [
              "['DL94UV6606',\n",
              " 'DL71PL6877',\n",
              " 'DL78YO9184',\n",
              " 'DL92DP2839',\n",
              " 'DL24JR7179',\n",
              " 'DL54PH1185',\n",
              " 'DL21TH9048',\n",
              " 'DL26SY6519',\n",
              " 'DL48TE5380',\n",
              " 'DL20LG1661',\n",
              " 'DL70ON9738',\n",
              " 'DL61GO4598',\n",
              " 'DL36VG7008',\n",
              " 'DL62VV2464',\n",
              " 'DL93MY4017']"
            ]
          },
          "metadata": {
            "tags": []
          },
          "execution_count": 178
        }
      ]
    },
    {
      "cell_type": "code",
      "metadata": {
        "colab": {
          "base_uri": "https://localhost:8080/"
        },
        "id": "sXTPKEzpXMmw",
        "outputId": "f07e3256-0587-412f-8ecd-237ea6c46d53"
      },
      "source": [
        "new_plate(\"AP\")"
      ],
      "execution_count": 103,
      "outputs": [
        {
          "output_type": "execute_result",
          "data": {
            "text/plain": [
              "['AP15HO8241',\n",
              " 'AP43AB4028',\n",
              " 'AP23LB9536',\n",
              " 'AP16EI7189',\n",
              " 'AP15WK7304',\n",
              " 'AP96TQ2797',\n",
              " 'AP66WW7132',\n",
              " 'AP95VJ8623',\n",
              " 'AP28RG8770',\n",
              " 'AP81VU2276',\n",
              " 'AP37WR6744',\n",
              " 'AP45ED2806',\n",
              " 'AP49RS3362',\n",
              " 'AP38IS9578',\n",
              " 'AP50BU7112']"
            ]
          },
          "metadata": {
            "tags": []
          },
          "execution_count": 103
        }
      ]
    }
  ]
}