{
  "nbformat": 4,
  "nbformat_minor": 0,
  "metadata": {
    "colab": {
      "name": "notebook_part1.ipynb",
      "provenance": []
    },
    "kernelspec": {
      "name": "python3",
      "display_name": "Python 3"
    },
    "language_info": {
      "name": "python"
    }
  },
  "cells": [
    {
      "cell_type": "code",
      "metadata": {
        "id": "Z8XxpfEW7edp"
      },
      "source": [
        "import random\n",
        "from collections import Counter"
      ],
      "execution_count": 1,
      "outputs": []
    },
    {
      "cell_type": "code",
      "metadata": {
        "id": "MMNBAN3v7oa1"
      },
      "source": [
        "value = ['2', '3', '4', '5', '6', '7', '8', '9', '10', 'jack', 'queen', 'king', 'ace']\n",
        "suits = ['spades', 'clubs', 'hearts', 'diamonds']"
      ],
      "execution_count": 2,
      "outputs": []
    },
    {
      "cell_type": "code",
      "metadata": {
        "colab": {
          "base_uri": "https://localhost:8080/"
        },
        "id": "akg6PzWw7rRY",
        "outputId": "ab497283-4bb2-460b-ad88-8e8f299a0f97"
      },
      "source": [
        "def genrate_deck(value, suits):\n",
        "    ''' This function takes suits and value list, combines them and returns the deck\n",
        "    # Input :\n",
        "        suits: list\n",
        "        value: list\n",
        "    # Functionality:\n",
        "        Iterates over suits and value and combines each value.\n",
        "\n",
        "    # Returns:\n",
        "        A list is returned containing the result of combination of value and suits.\n",
        "    '''\n",
        "    deck = []\n",
        "    for number in value:\n",
        "        for i in suits:\n",
        "            card = i + str(number)\n",
        "            deck.append(card)\n",
        "    return deck\n",
        "\n",
        "test_deck = genrate_deck(value, suits)\n",
        "print(test_deck)"
      ],
      "execution_count": 3,
      "outputs": [
        {
          "output_type": "stream",
          "text": [
            "['spades2', 'clubs2', 'hearts2', 'diamonds2', 'spades3', 'clubs3', 'hearts3', 'diamonds3', 'spades4', 'clubs4', 'hearts4', 'diamonds4', 'spades5', 'clubs5', 'hearts5', 'diamonds5', 'spades6', 'clubs6', 'hearts6', 'diamonds6', 'spades7', 'clubs7', 'hearts7', 'diamonds7', 'spades8', 'clubs8', 'hearts8', 'diamonds8', 'spades9', 'clubs9', 'hearts9', 'diamonds9', 'spades10', 'clubs10', 'hearts10', 'diamonds10', 'spadesjack', 'clubsjack', 'heartsjack', 'diamondsjack', 'spadesqueen', 'clubsqueen', 'heartsqueen', 'diamondsqueen', 'spadesking', 'clubsking', 'heartsking', 'diamondsking', 'spadesace', 'clubsace', 'heartsace', 'diamondsace']\n"
          ],
          "name": "stdout"
        }
      ]
    },
    {
      "cell_type": "code",
      "metadata": {
        "colab": {
          "base_uri": "https://localhost:8080/"
        },
        "id": "nkem2pK_7sjt",
        "outputId": "29b859e8-b1a0-4c4e-8b89-9ebc215a20c1"
      },
      "source": [
        "# Function generate deck of 52 cards Solely using map, lambda and zip function\n",
        "def generate_deck_using_lambda_map_zip(value, suits):\n",
        "    # using lambda zip and map fubction\n",
        "    x = list(map(lambda cards: ''.join(cards), zip(suits*len(value), value*len(suits))))\n",
        "    return x\n",
        "\n",
        "test_deck = generate_deck_using_lambda_map_zip(value, suits)\n",
        "print(test_deck)"
      ],
      "execution_count": 5,
      "outputs": [
        {
          "output_type": "stream",
          "text": [
            "['spades2', 'clubs3', 'hearts4', 'diamonds5', 'spades6', 'clubs7', 'hearts8', 'diamonds9', 'spades10', 'clubsjack', 'heartsqueen', 'diamondsking', 'spadesace', 'clubs2', 'hearts3', 'diamonds4', 'spades5', 'clubs6', 'hearts7', 'diamonds8', 'spades9', 'clubs10', 'heartsjack', 'diamondsqueen', 'spadesking', 'clubsace', 'hearts2', 'diamonds3', 'spades4', 'clubs5', 'hearts6', 'diamonds7', 'spades8', 'clubs9', 'hearts10', 'diamondsjack', 'spadesqueen', 'clubsking', 'heartsace', 'diamonds2', 'spades3', 'clubs4', 'hearts5', 'diamonds6', 'spades7', 'clubs8', 'hearts9', 'diamonds10', 'spadesjack', 'clubsqueen', 'heartsking', 'diamondsace']\n"
          ],
          "name": "stdout"
        }
      ]
    }
  ]
}